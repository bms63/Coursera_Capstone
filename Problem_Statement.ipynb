{
 "cells": [
  {
   "cell_type": "markdown",
   "metadata": {},
   "source": [
    "# Predicting Changing Neighborhoods\n",
    "\n",
    "## Introduction\n",
    "\n",
    "### Background\n",
    "\n",
    "Increasing rent in major cities is becoming an ever-present discussion of its ills.  The intersection of rents and the presence of **and/or** the coming presence of certain amenities could herald increased rents for neighborhoods.  Using publicly available data on rents and the Foursquare API data I will seek to explore this intersection.  At the end of this paper, I hope that Readers will gain an understanding of what drives increases in rents in specific neighborhoods as well as what could be possible precursors of rent increases.  The paper will make use of three cities to drive this discussion - Philadelphia, USA, Munich, Germany and Toronto, Canada.\n",
    "\n",
    "### Problem\n",
    "\n",
    "Predicting Changing Neighborhoods \n",
    "\n",
    "Using Foursquare data and publicly available rental data I will explore the intersection of rents and amenities.  I will provide a discussion on rents and amenities driven by exploratory data analyssis and attempt to build several predictive models that could be used to predict rental increases.  The simplest models will explore the relationship between neighborhood rents and amenities while more advanced models will seek to predict the likelihood of rental increases based on neighborhood amenities.  I am particularly interested in if the presence of certain amenities or sequence of amenities herald increased rents.\n",
    "\n",
    "### Interest\n",
    "\n",
    "#### General Interest\n",
    "Readers of this paper will gain an understanding of which amenities in a neighborhood have the greatest influences on rents in a neighborhood.  Those involved in discussions around gentrification or neighborhood transition could gain greater insights into how the evolution of a neighborhood is driven by amenities.\n",
    "\n",
    "#### Personal Interest\n",
    "I will make use of book, *Regression Models, Methods and Applications* by Fahrmeir, L., Kneib, Th., Lang, S., Marx, B. which has great explorations of all parametric and non-parametric tools within the Regression framework.  Each method that the authors present to their readers are always paired with a real-world example.  One that I have always enjoyed was the Munich Rent dataset.  I have never been to Munich, but for some reason felt more interested in the discussion of say **General Likelihood Mixed Models** when this dataset was referenced.  This book was also the cornerstone of a Regression class I took in the past in school and would like to revisit some of its methods to help rekindle some of my dormant statistics knowledge.  This book and the Course Notes for the Data Science Specialization will help drive my exploration of the data and models for this paper.\n",
    "\n",
    "## Data Acquisition and Cleaning\n",
    "\n",
    "I will need to collect data from two sources.  One data source will be rental data on Philadelphia, Munich and Toronto.  The second data source will consist of Foursquare data for the three cities. I will attempt to merge the data together in a sensible way and see what Foursquare data has strong correlation with higher rents in respective neighborhoods.  I expect there will be a need to do some feature selection within the data sets.  I will then attempt to create several models, yet to be determined, that predict rent of the neighborhood based on Foursquare data.  For example, the simple model could quantify that the presence of one dog parks in the neighborhood produces X percent increase in rent. A more advanced model could predict the likelihood of rent increases based on the sequence of amenities that are established or are going to be established.  \n",
    "\n",
    "### Rental Data\n",
    "\n",
    "Rental data is difficult to come by.  I will make use of publicly available data for neighborhoods of each city and attempt to find as current data as possible for each city.  I will focus on a few trendy neighborhoods, a few solidly middle/working class neighbrhods and low income neighborhoods \n",
    "\n",
    "### Foursquare Data\n",
    "\n",
    "The collection of the Foursquare data will proceed as was done in the class.\n",
    "\n",
    "The following sections will be developed within the paper\n",
    "\n",
    "## Exploratory Data Analysis\n",
    "## Predictive Modeling\n",
    "## Conclusions\n",
    "## Future Work\n",
    "\n"
   ]
  },
  {
   "cell_type": "markdown",
   "metadata": {},
   "source": []
  }
 ],
 "metadata": {
  "kernelspec": {
   "display_name": "Python",
   "language": "python",
   "name": "conda-env-python-py"
  },
  "language_info": {
   "codemirror_mode": {
    "name": "ipython",
    "version": 3
   },
   "file_extension": ".py",
   "mimetype": "text/x-python",
   "name": "python",
   "nbconvert_exporter": "python",
   "pygments_lexer": "ipython3",
   "version": "3.6.12"
  }
 },
 "nbformat": 4,
 "nbformat_minor": 4
}
