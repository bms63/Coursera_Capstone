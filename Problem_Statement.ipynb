{
 "cells": [
  {
   "cell_type": "markdown",
   "metadata": {},
   "source": [
    "## A description of the problem and a discussion of the background. (15 marks)\n",
    "\n",
    "The book, *Regression Models, Methods and Applications* by Fahrmeir, L., Kneib, Th., Lang, S., Marx, B. has a great exploration of all parametic and non-parametric tools within the Regression Framework.  Each method that the authors present to their readers are always paired with a real-world example.  One that I have always enjoyed was the Munich Rent dataset.  I have never been to Munich, but for some reason felt more interested in the discussion of say **General Likelihood Mixed Models** when this dataset was referenced.  This books was also the cornerstone of a Regression class I took in the past in schhol and would like to revisit some of its methods to help rekindle some of my dormant statistics knowledge.  \n",
    "\n",
    "### My specific problem\n",
    "\n",
    "Predicting Rent with FourSquare Data for different Cities\n",
    "\n",
    "## A description of the data and how it will be used to solve the problem. (15 marks)\n",
    "\n",
    "I will need to collect two datasets.  One dataset will be rental data on Philadelphia, Munich and Toronto.  The second dataset will consist of foursquare data for the three cities. I will attempt to merge the datasets together in a sensible way and see what foursquare data has strong correlation with higher rents in respecive neighborhoods.  I will then attempt to create several models, yet to be determined, that predict rent of the nieghborhood based on foursquare data.  For example, the presence of dog parks in the neighborhood produces an in\n",
    "\n",
    "### Rental Data\n",
    "\n",
    "Rental data is difficult to come by.  I will make use of publicly available data for neigborhoods of each city and attempt to find as current data as possible for each city.  I will focus on a few trendy neighborhoods, a few solidly middle/working class neighbrhods and \n",
    "\n",
    "### Foursquare Data\n",
    "\n",
    "The collection of the Foursquare data will proceed as was doen in the class.\n",
    "\n",
    "\n",
    "\n"
   ]
  },
  {
   "cell_type": "code",
   "execution_count": null,
   "metadata": {},
   "outputs": [],
   "source": []
  }
 ],
 "metadata": {
  "kernelspec": {
   "display_name": "Python",
   "language": "python",
   "name": "conda-env-python-py"
  },
  "language_info": {
   "codemirror_mode": {
    "name": "ipython",
    "version": 3
   },
   "file_extension": ".py",
   "mimetype": "text/x-python",
   "name": "python",
   "nbconvert_exporter": "python",
   "pygments_lexer": "ipython3",
   "version": "3.6.12"
  }
 },
 "nbformat": 4,
 "nbformat_minor": 4
}
