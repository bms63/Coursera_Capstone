{
 "cells": [
  {
   "cell_type": "markdown",
   "metadata": {},
   "source": [
    "# Predicting Changing Neighborhoods\n",
    "\n",
    "## Introduction\n",
    "\n",
    "### Background\n",
    "\n",
    "Increasing rent in major cities is becoming an ever-present discussion of its ills.  The intersection of rents and the presence of **and/or** the coming presence of certain amenities could herald increased rents for neighborhoods.  Using publicly available data on rents and the Foursquare API data I will seek to explore this intersection.  At the end of this paper, I hope that Readers will gain an understanding of what drives increases in rents in specific neighborhoods as well as what could be possible precursors of rent increases.  The paper will make use of three cities to drive this discussion - Philadelphia, USA, Munich, Germany and Toronto, Canada.\n",
    "\n",
    "### Problem\n",
    "\n",
    "Predicting Changing Neighborhoods \n",
    "\n",
    "Using Foursquare data and publicly available rental data I will explore the intersection of rents and amenities.  I will provide a discussion on rents and amenities driven by exploratory data analyssis and attempt to build several predictive models that could be used to predict rental increases.  The simplest models will explore the relationship between neighborhood rents and amenities while more advanced models will seek to predict the likelihood of rental increases based on neighborhood amenities.  I am particularly interested in if the presence of certain amenities or sequence of amenities herald increased rents.\n",
    "\n",
    "### Interest\n",
    "\n",
    "#### General Interest\n",
    "Readers of this paper will gain an understanding of which amenities in a neighborhood have the greatest influences on rents in a neighborhood.  Those involved in discussions around gentrification or neighborhood transition could gain greater insights into how the evolution of a neighborhood is driven by amenities.\n",
    "\n",
    "#### Personal Interest\n",
    "I will make use of book, *Regression Models, Methods and Applications* by Fahrmeir, L., Kneib, Th., Lang, S., Marx, B. which has great explorations of all parametric and non-parametric tools within the Regression framework.  Each method that the authors present to their readers are always paired with a real-world example.  One that I have always enjoyed was the Munich Rent dataset.  I have never been to Munich, but for some reason felt more interested in the discussion of say **General Likelihood Mixed Models** when this dataset was referenced.  This book was also the cornerstone of a Regression class I took in the past in school and would like to revisit some of its methods to help rekindle some of my dormant statistics knowledge.  This book and the Course Notes for the Data Science Specialization will help drive my exploration of the data and models for this paper.\n",
    "\n",
    "## Data Acquisition and Cleaning\n",
    "\n",
    "I will need to collect data from two sources.  One data source will be rental data on Philadelphia, Munich and Toronto.  The second data source will consist of Foursquare data for the three cities. I will attempt to merge the data together in a sensible way and see what Foursquare data has strong correlation with higher rents in respective neighborhoods.  I expect there will be a need to do some feature selection within the data sets.  I will then attempt to create several models, yet to be determined, that predict rent of the neighborhood based on Foursquare data.  For example, the simple model could quantify that the presence of one dog parks in the neighborhood produces X percent increase in rent. A more advanced model could predict the likelihood of rent increases based on the sequence of amenities that are established or are going to be established.  \n",
    "\n",
    "### Rental Data\n",
    "\n",
    "Rental data is difficult to come by.  I will make use of publicly available data for neighborhoods of each city and attempt to find as current data as possible for each city.  I will focus on a few trendy neighborhoods, a few solidly middle/working class neighbrhods and low income neighborhoods "
   ]
  },
  {
   "cell_type": "markdown",
   "metadata": {},
   "source": [
    "### Foursquare Data\n",
    "\n",
    "The collection of the Foursquare data will proceed as was done in the class.  I make use of the geopy library to find the locations for Toronto, CA, Philadelphia, USA and Munich, Germany"
   ]
  },
  {
   "cell_type": "code",
   "execution_count": null,
   "metadata": {},
   "outputs": [],
   "source": [
    "import import_ipynb\n",
    "import libraries_import # Bring in libraries\n",
    "from geopy.geocoders import Nominatim # convert an address into latitude and longitude values\n",
    "import folium # map rendering library\n",
    "import requests # library to handle requests\n",
    "from pandas.io.json import json_normalize # tranform JSON file into a pandas dataframe"
   ]
  },
  {
   "cell_type": "code",
   "execution_count": null,
   "metadata": {},
   "outputs": [],
   "source": [
    "# Find location data for each Point of Interest\n",
    "def find_loc(address):\n",
    "    geolocator = Nominatim(user_agent=\"to_explorer\")\n",
    "    location = geolocator.geocode(address)\n",
    "    latitude = location.latitude\n",
    "    longitude = location.longitude\n",
    "    print(address, 'is located at', latitude, longitude)\n",
    "    map_city= folium.Map(location=[latitude, longitude], zoom_start=12)\n",
    "    return(map_city)"
   ]
  },
  {
   "cell_type": "code",
   "execution_count": null,
   "metadata": {},
   "outputs": [],
   "source": [
    "find_loc('Toronto, Ontario, Canada')"
   ]
  },
  {
   "cell_type": "code",
   "execution_count": 51,
   "metadata": {},
   "outputs": [
    {
     "name": "stdout",
     "output_type": "stream",
     "text": [
      "Philadelphia, Pennsylvania, United States is located at 39.9527237 -75.1635262\n"
     ]
    },
    {
     "data": {
      "text/html": [
       "<div style=\"width:100%;\"><div style=\"position:relative;width:100%;height:0;padding-bottom:60%;\"><span style=\"color:#565656\">Make this Notebook Trusted to load map: File -> Trust Notebook</span><iframe src=\"about:blank\" style=\"position:absolute;width:100%;height:100%;left:0;top:0;border:none !important;\" data-html=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 onload=\"this.contentDocument.open();this.contentDocument.write(atob(this.getAttribute('data-html')));this.contentDocument.close();\" allowfullscreen webkitallowfullscreen mozallowfullscreen></iframe></div></div>"
      ],
      "text/plain": [
       "<folium.folium.Map at 0x7f9f4cd54860>"
      ]
     },
     "execution_count": 51,
     "metadata": {},
     "output_type": "execute_result"
    }
   ],
   "source": [
    "find_loc('Philadelphia, Pennsylvania, United States')"
   ]
  },
  {
   "cell_type": "code",
   "execution_count": null,
   "metadata": {},
   "outputs": [],
   "source": [
    "find_loc('Munich, Bavaria, Germany')"
   ]
  },
  {
   "cell_type": "code",
   "execution_count": 48,
   "metadata": {},
   "outputs": [],
   "source": [
    "CLIENT_ID = '4KCZQIWP2C3DCADJSJDFHDXE1NWQEGV5MADYDVVSAN3CKYK0' # your Foursquare ID\n",
    "CLIENT_SECRET = 'C31NBUPKLN1SHGFL32Z55LIDNHNLNA5PQDRQC2N1LPF1JKLK' # your Foursquare Secret\n",
    "ACCESS_TOKEN = 'Z44MRGHEWGI000AZY1I0CINVYPDNLS1CI54W003YTKO1M3ZG' # your FourSquare Access Token\n",
    "LIMIT = 100 # A default Foursquare API limit value\n",
    "VERSION = '20180604'\n",
    "LIMIT = 1000 # limit of number of venues returned by Foursquare API\n",
    "radius = 5000 # define radius\n",
    "\n",
    "def get_4sqr_data(lat, long):\n",
    "    url = 'https://api.foursquare.com/v2/venues/explore?&client_id={}&client_secret={}&v={}&ll={},{}&radius={}&limit={}'.format(\n",
    "        CLIENT_ID, \n",
    "        CLIENT_SECRET, \n",
    "        VERSION, \n",
    "        lat,\n",
    "        long,\n",
    "        radius, \n",
    "        LIMIT)\n",
    "    results = requests.get(url).json() # Print suppressed as its massive unwieldy file!\n",
    "    return(results)\n",
    "\n",
    "# get the result to a json file\n",
    "toronto_4sqr = get_4sqr_data(43.6534817, -79.3839347)\n",
    "philly_4sqr = get_4sqr_data(39.9527237, -75.1635262)\n",
    "munich_4sqr = get_4sqr_data(48.1371079, 11.5753822)"
   ]
  },
  {
   "cell_type": "code",
   "execution_count": 50,
   "metadata": {},
   "outputs": [
    {
     "name": "stderr",
     "output_type": "stream",
     "text": [
      "/home/jupyterlab/conda/envs/python/lib/python3.6/site-packages/ipykernel_launcher.py:13: FutureWarning: pandas.io.json.json_normalize is deprecated, use pandas.json_normalize instead\n",
      "  del sys.path[0]\n"
     ]
    },
    {
     "data": {
      "text/html": [
       "<div>\n",
       "<style scoped>\n",
       "    .dataframe tbody tr th:only-of-type {\n",
       "        vertical-align: middle;\n",
       "    }\n",
       "\n",
       "    .dataframe tbody tr th {\n",
       "        vertical-align: top;\n",
       "    }\n",
       "\n",
       "    .dataframe thead th {\n",
       "        text-align: right;\n",
       "    }\n",
       "</style>\n",
       "<table border=\"1\" class=\"dataframe\">\n",
       "  <thead>\n",
       "    <tr style=\"text-align: right;\">\n",
       "      <th></th>\n",
       "      <th>name</th>\n",
       "      <th>categories</th>\n",
       "      <th>lat</th>\n",
       "      <th>lng</th>\n",
       "    </tr>\n",
       "  </thead>\n",
       "  <tbody>\n",
       "    <tr>\n",
       "      <th>0</th>\n",
       "      <td>Dilworth Park</td>\n",
       "      <td>Park</td>\n",
       "      <td>39.952772</td>\n",
       "      <td>-75.164723</td>\n",
       "    </tr>\n",
       "    <tr>\n",
       "      <th>1</th>\n",
       "      <td>La Colombe Coffee Roasters</td>\n",
       "      <td>Coffee Shop</td>\n",
       "      <td>39.951659</td>\n",
       "      <td>-75.165238</td>\n",
       "    </tr>\n",
       "    <tr>\n",
       "      <th>2</th>\n",
       "      <td>Philadelphia Film Center</td>\n",
       "      <td>Movie Theater</td>\n",
       "      <td>39.950835</td>\n",
       "      <td>-75.164683</td>\n",
       "    </tr>\n",
       "    <tr>\n",
       "      <th>3</th>\n",
       "      <td>Reading Terminal Market</td>\n",
       "      <td>Market</td>\n",
       "      <td>39.953341</td>\n",
       "      <td>-75.159306</td>\n",
       "    </tr>\n",
       "    <tr>\n",
       "      <th>4</th>\n",
       "      <td>Blick Art Materials</td>\n",
       "      <td>Arts &amp; Crafts Store</td>\n",
       "      <td>39.950621</td>\n",
       "      <td>-75.163159</td>\n",
       "    </tr>\n",
       "  </tbody>\n",
       "</table>\n",
       "</div>"
      ],
      "text/plain": [
       "                         name           categories        lat        lng\n",
       "0               Dilworth Park                 Park  39.952772 -75.164723\n",
       "1  La Colombe Coffee Roasters          Coffee Shop  39.951659 -75.165238\n",
       "2    Philadelphia Film Center        Movie Theater  39.950835 -75.164683\n",
       "3     Reading Terminal Market               Market  39.953341 -75.159306\n",
       "4         Blick Art Materials  Arts & Crafts Store  39.950621 -75.163159"
      ]
     },
     "execution_count": 50,
     "metadata": {},
     "output_type": "execute_result"
    }
   ],
   "source": [
    "def get_category_type(row):\n",
    "    try:\n",
    "        categories_list = row['categories']\n",
    "    except:\n",
    "        categories_list = row['venue.categories']\n",
    "        \n",
    "    if len(categories_list) == 0:\n",
    "        return None\n",
    "    else:\n",
    "        return categories_list[0]['name']\n",
    "\n",
    "def get_pretty(results):\n",
    "    venues = results['response']['groups'][0]['items']\n",
    "    nearby_venues = json_normalize(venues) # flatten JSON\n",
    "\n",
    "    # filter columns\n",
    "    filtered_columns = ['venue.name', 'venue.categories', 'venue.location.lat', 'venue.location.lng']\n",
    "    nearby_venues =nearby_venues.loc[:, filtered_columns]\n",
    "\n",
    "    # filter the category for each row\n",
    "    nearby_venues['venue.categories'] = nearby_venues.apply(get_category_type, axis=1)\n",
    "\n",
    "    # clean columns\n",
    "    nearby_venues.columns = [col.split(\".\")[-1] for col in nearby_venues.columns]\n",
    "    nearby_venues.head(5)\n",
    "    \n"
   ]
  },
  {
   "cell_type": "code",
   "execution_count": null,
   "metadata": {},
   "outputs": [],
   "source": [
    "toronto_results"
   ]
  },
  {
   "cell_type": "markdown",
   "metadata": {},
   "source": [
    "The following sections will be developed within the paper\n",
    "\n",
    "## Exploratory Data Analysis\n",
    "## Predictive Modeling\n",
    "## Conclusions\n",
    "## Future Work"
   ]
  },
  {
   "cell_type": "code",
   "execution_count": null,
   "metadata": {},
   "outputs": [],
   "source": []
  }
 ],
 "metadata": {
  "kernelspec": {
   "display_name": "Python",
   "language": "python",
   "name": "conda-env-python-py"
  },
  "language_info": {
   "codemirror_mode": {
    "name": "ipython",
    "version": 3
   },
   "file_extension": ".py",
   "mimetype": "text/x-python",
   "name": "python",
   "nbconvert_exporter": "python",
   "pygments_lexer": "ipython3",
   "version": "3.6.12"
  }
 },
 "nbformat": 4,
 "nbformat_minor": 4
}
